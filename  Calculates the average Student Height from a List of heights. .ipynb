{
 "cells": [
  {
   "cell_type": "raw",
   "metadata": {},
   "source": [
    "# write a program that calculates the average student height from a List of heights.\n",
    "The average height can be calculated by adding all the heights together and dividing by the total number of heights.\n",
    "e.g. 180 + 124 + 165 + 173 + 189 + 169 + 146 = **1146**\n",
    "There are a total of **7** heights in `student_heights`\n",
    "                      1146 ÷ 7 = **163.71428571428572**\n",
    "Average height rounded to the nearest whole number = **164**\n",
    "Challenge is **Important** You should not use the `sum()` or `len()` functions in your answer. You should try to replicate their functionality using what you have learnt about for loops.\n",
    "\n",
    "# Example Input 156 178 165 171 187\n",
    "  In this case, student_heights would be a list that looks like: [156, 178, 165, 171, 187]\n",
    "\n",
    "# Example Output \n",
    "    171\n",
    "e.g. When you hit **run**, this is what should happen: \n",
    " # learning function:\n",
    "    1. split() function to sperate by comma\n",
    "    2. for loop\n",
    "    3. round() to round the value\n",
    "    4. len() calculate the len function\n",
    "    5. += another way to add the values instead of sum() function."
   ]
  },
  {
   "cell_type": "code",
   "execution_count": 46,
   "metadata": {},
   "outputs": [
    {
     "name": "stdout",
     "output_type": "stream",
     "text": [
      "\n",
      "Input a list of student heights 156 178 165 171 187\n",
      "\n",
      "List of students sperated by delimeter :  [156, 178, 165, 171, 187]\n",
      "\n",
      "Total height of the students :  857\n",
      "\n",
      "Total number of students :  5\n",
      "\n",
      "Average height of the students :  171\n"
     ]
    }
   ],
   "source": [
    "student_heights = input(\"\\nInput a list of student heights \").split()\n",
    "for n in range(0, len(student_heights)):\n",
    "    student_heights[n] = int(student_heights[n])\n",
    "print(\"\\nList of students sperated by delimeter : \", student_heights)\n",
    "\n",
    "total_height =0\n",
    "for height in student_heights:\n",
    "    total_height += height\n",
    "print(\"\\nTotal height of the students : \",total_height)\n",
    "\n",
    "  \n",
    "number_of_students =0\n",
    "for student in student_heights:\n",
    "    number_of_students +=1\n",
    "print(\"\\nTotal number of students : \", number_of_students)\n",
    "\n",
    "average_height = round(total_height/number_of_students)\n",
    "print(\"\\nAverage height of the students : \", average_height)"
   ]
  },
  {
   "cell_type": "code",
   "execution_count": null,
   "metadata": {},
   "outputs": [],
   "source": []
  }
 ],
 "metadata": {
  "kernelspec": {
   "display_name": "Python 3",
   "language": "python",
   "name": "python3"
  },
  "language_info": {
   "codemirror_mode": {
    "name": "ipython",
    "version": 3
   },
   "file_extension": ".py",
   "mimetype": "text/x-python",
   "name": "python",
   "nbconvert_exporter": "python",
   "pygments_lexer": "ipython3",
   "version": "3.8.3"
  }
 },
 "nbformat": 4,
 "nbformat_minor": 4
}
